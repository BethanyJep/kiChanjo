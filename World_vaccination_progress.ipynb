{
  "nbformat": 4,
  "nbformat_minor": 0,
  "metadata": {
    "colab": {
      "name": "World vaccination progress",
      "provenance": [],
      "include_colab_link": true
    },
    "kernelspec": {
      "name": "python3",
      "display_name": "Python 3"
    }
  },
  "cells": [
    {
      "cell_type": "markdown",
      "metadata": {
        "id": "view-in-github",
        "colab_type": "text"
      },
      "source": [
        "<a href=\"https://colab.research.google.com/github/BethanyJep/kiChanjo/blob/main/World_vaccination_progress.ipynb\" target=\"_parent\"><img src=\"https://colab.research.google.com/assets/colab-badge.svg\" alt=\"Open In Colab\"/></a>"
      ]
    },
    {
      "cell_type": "markdown",
      "metadata": {
        "id": "3wsvoDz66Ot6"
      },
      "source": [
        "# World vaccination progress"
      ]
    },
    {
      "cell_type": "markdown",
      "metadata": {
        "id": "WDW-wQes6U7W"
      },
      "source": [
        "## Reading our Data\n"
      ]
    },
    {
      "cell_type": "markdown",
      "metadata": {
        "id": "4SQodz0D6U3t"
      },
      "source": [
        ""
      ]
    },
    {
      "cell_type": "markdown",
      "metadata": {
        "id": "_jXOFfJoxiEu"
      },
      "source": [
        ""
      ]
    },
    {
      "cell_type": "code",
      "metadata": {
        "id": "5r0Bfd9I6UZf"
      },
      "source": [
        "#Getting the necessary libraries\n",
        "import numpy as np\n",
        "import pandas as pd\n",
        "import seaborn as sns\n",
        "import matplotlib.pyplot as plt\n",
        "\n",
        "import csv\n",
        "import re #regular expression\n",
        "from textblob import TextBlob\n",
        "import string\n",
        "\n",
        "from sklearn.model_selection import train_test_split\n",
        "from sklearn.feature_extraction.text import CountVectorizer\n",
        "from sklearn.ensemble import RandomForestClassifier\n",
        "from sklearn.metrics import confusion_matrix\n",
        "from sklearn.feature_extraction.text import TfidfVectorizer\n",
        "from sklearn.naive_bayes import MultinomialNB\n",
        "from sklearn import metrics\n",
        "\n",
        "from collections import Counter \n",
        "import nltk\n",
        "from nltk.corpus import stopwords\n",
        "from wordcloud import WordCloud, STOPWORDS"
      ],
      "execution_count": null,
      "outputs": []
    },
    {
      "cell_type": "code",
      "metadata": {
        "colab": {
          "base_uri": "https://localhost:8080/",
          "height": 309
        },
        "id": "79i2pFMuXb66",
        "outputId": "6e77d287-4190-46f7-e64b-a1fc54022e3a"
      },
      "source": [
        "df = pd.read_csv('https://raw.githubusercontent.com/BethanyJep/COVID-19-Vaccine-Data/main/country_vaccinations.csv')\n",
        "df.head()"
      ],
      "execution_count": null,
      "outputs": [
        {
          "output_type": "execute_result",
          "data": {
            "text/html": [
              "<div>\n",
              "<style scoped>\n",
              "    .dataframe tbody tr th:only-of-type {\n",
              "        vertical-align: middle;\n",
              "    }\n",
              "\n",
              "    .dataframe tbody tr th {\n",
              "        vertical-align: top;\n",
              "    }\n",
              "\n",
              "    .dataframe thead th {\n",
              "        text-align: right;\n",
              "    }\n",
              "</style>\n",
              "<table border=\"1\" class=\"dataframe\">\n",
              "  <thead>\n",
              "    <tr style=\"text-align: right;\">\n",
              "      <th></th>\n",
              "      <th>country</th>\n",
              "      <th>iso_code</th>\n",
              "      <th>date</th>\n",
              "      <th>total_vaccinations</th>\n",
              "      <th>people_vaccinated</th>\n",
              "      <th>people_fully_vaccinated</th>\n",
              "      <th>daily_vaccinations_raw</th>\n",
              "      <th>daily_vaccinations</th>\n",
              "      <th>total_vaccinations_per_hundred</th>\n",
              "      <th>people_vaccinated_per_hundred</th>\n",
              "      <th>people_fully_vaccinated_per_hundred</th>\n",
              "      <th>daily_vaccinations_per_million</th>\n",
              "      <th>vaccines</th>\n",
              "      <th>source_name</th>\n",
              "      <th>source_website</th>\n",
              "    </tr>\n",
              "  </thead>\n",
              "  <tbody>\n",
              "    <tr>\n",
              "      <th>0</th>\n",
              "      <td>Albania</td>\n",
              "      <td>ALB</td>\n",
              "      <td>2021-01-10</td>\n",
              "      <td>0.0</td>\n",
              "      <td>0.0</td>\n",
              "      <td>NaN</td>\n",
              "      <td>NaN</td>\n",
              "      <td>NaN</td>\n",
              "      <td>0.00</td>\n",
              "      <td>0.00</td>\n",
              "      <td>NaN</td>\n",
              "      <td>NaN</td>\n",
              "      <td>Pfizer/BioNTech</td>\n",
              "      <td>Ministry of Health</td>\n",
              "      <td>https://shendetesia.gov.al/covid19-ministria-e...</td>\n",
              "    </tr>\n",
              "    <tr>\n",
              "      <th>1</th>\n",
              "      <td>Albania</td>\n",
              "      <td>ALB</td>\n",
              "      <td>2021-01-11</td>\n",
              "      <td>NaN</td>\n",
              "      <td>NaN</td>\n",
              "      <td>NaN</td>\n",
              "      <td>NaN</td>\n",
              "      <td>64.0</td>\n",
              "      <td>NaN</td>\n",
              "      <td>NaN</td>\n",
              "      <td>NaN</td>\n",
              "      <td>22.0</td>\n",
              "      <td>Pfizer/BioNTech</td>\n",
              "      <td>Ministry of Health</td>\n",
              "      <td>https://shendetesia.gov.al/covid19-ministria-e...</td>\n",
              "    </tr>\n",
              "    <tr>\n",
              "      <th>2</th>\n",
              "      <td>Albania</td>\n",
              "      <td>ALB</td>\n",
              "      <td>2021-01-12</td>\n",
              "      <td>128.0</td>\n",
              "      <td>128.0</td>\n",
              "      <td>NaN</td>\n",
              "      <td>NaN</td>\n",
              "      <td>64.0</td>\n",
              "      <td>0.00</td>\n",
              "      <td>0.00</td>\n",
              "      <td>NaN</td>\n",
              "      <td>22.0</td>\n",
              "      <td>Pfizer/BioNTech</td>\n",
              "      <td>Ministry of Health</td>\n",
              "      <td>https://shendetesia.gov.al/covid19-ministria-e...</td>\n",
              "    </tr>\n",
              "    <tr>\n",
              "      <th>3</th>\n",
              "      <td>Albania</td>\n",
              "      <td>ALB</td>\n",
              "      <td>2021-01-13</td>\n",
              "      <td>188.0</td>\n",
              "      <td>188.0</td>\n",
              "      <td>NaN</td>\n",
              "      <td>60.0</td>\n",
              "      <td>63.0</td>\n",
              "      <td>0.01</td>\n",
              "      <td>0.01</td>\n",
              "      <td>NaN</td>\n",
              "      <td>22.0</td>\n",
              "      <td>Pfizer/BioNTech</td>\n",
              "      <td>Ministry of Health</td>\n",
              "      <td>https://shendetesia.gov.al/covid19-ministria-e...</td>\n",
              "    </tr>\n",
              "    <tr>\n",
              "      <th>4</th>\n",
              "      <td>Albania</td>\n",
              "      <td>ALB</td>\n",
              "      <td>2021-01-14</td>\n",
              "      <td>266.0</td>\n",
              "      <td>266.0</td>\n",
              "      <td>NaN</td>\n",
              "      <td>78.0</td>\n",
              "      <td>66.0</td>\n",
              "      <td>0.01</td>\n",
              "      <td>0.01</td>\n",
              "      <td>NaN</td>\n",
              "      <td>23.0</td>\n",
              "      <td>Pfizer/BioNTech</td>\n",
              "      <td>Ministry of Health</td>\n",
              "      <td>https://shendetesia.gov.al/covid19-ministria-e...</td>\n",
              "    </tr>\n",
              "  </tbody>\n",
              "</table>\n",
              "</div>"
            ],
            "text/plain": [
              "   country  ...                                     source_website\n",
              "0  Albania  ...  https://shendetesia.gov.al/covid19-ministria-e...\n",
              "1  Albania  ...  https://shendetesia.gov.al/covid19-ministria-e...\n",
              "2  Albania  ...  https://shendetesia.gov.al/covid19-ministria-e...\n",
              "3  Albania  ...  https://shendetesia.gov.al/covid19-ministria-e...\n",
              "4  Albania  ...  https://shendetesia.gov.al/covid19-ministria-e...\n",
              "\n",
              "[5 rows x 15 columns]"
            ]
          },
          "metadata": {
            "tags": []
          },
          "execution_count": 2
        }
      ]
    },
    {
      "cell_type": "code",
      "metadata": {
        "colab": {
          "base_uri": "https://localhost:8080/"
        },
        "id": "ZTqk-kF2uJRU",
        "outputId": "2a6786eb-a48e-487c-dfca-66ae55cc9e45"
      },
      "source": [
        "df.info()"
      ],
      "execution_count": null,
      "outputs": [
        {
          "output_type": "stream",
          "text": [
            "<class 'pandas.core.frame.DataFrame'>\n",
            "RangeIndex: 6325 entries, 0 to 6324\n",
            "Data columns (total 15 columns):\n",
            " #   Column                               Non-Null Count  Dtype  \n",
            "---  ------                               --------------  -----  \n",
            " 0   country                              6325 non-null   object \n",
            " 1   iso_code                             5961 non-null   object \n",
            " 2   date                                 6325 non-null   object \n",
            " 3   total_vaccinations                   4059 non-null   float64\n",
            " 4   people_vaccinated                    3612 non-null   float64\n",
            " 5   people_fully_vaccinated              2456 non-null   float64\n",
            " 6   daily_vaccinations_raw               3427 non-null   float64\n",
            " 7   daily_vaccinations                   6131 non-null   float64\n",
            " 8   total_vaccinations_per_hundred       4059 non-null   float64\n",
            " 9   people_vaccinated_per_hundred        3612 non-null   float64\n",
            " 10  people_fully_vaccinated_per_hundred  2456 non-null   float64\n",
            " 11  daily_vaccinations_per_million       6131 non-null   float64\n",
            " 12  vaccines                             6325 non-null   object \n",
            " 13  source_name                          6325 non-null   object \n",
            " 14  source_website                       6325 non-null   object \n",
            "dtypes: float64(9), object(6)\n",
            "memory usage: 741.3+ KB\n"
          ],
          "name": "stdout"
        }
      ]
    },
    {
      "cell_type": "code",
      "metadata": {
        "colab": {
          "base_uri": "https://localhost:8080/"
        },
        "id": "LrnlsaIluAX3",
        "outputId": "73e9abc9-31a7-44de-e448-02604e87f6fb"
      },
      "source": [
        "df.shape"
      ],
      "execution_count": null,
      "outputs": [
        {
          "output_type": "execute_result",
          "data": {
            "text/plain": [
              "(6325, 15)"
            ]
          },
          "metadata": {
            "tags": []
          },
          "execution_count": 3
        }
      ]
    },
    {
      "cell_type": "code",
      "metadata": {
        "id": "MnnowTRzuxyV",
        "colab": {
          "base_uri": "https://localhost:8080/",
          "height": 317
        },
        "outputId": "182598cf-20ed-48c6-d23b-72871b10148f"
      },
      "source": [
        "df.describe()"
      ],
      "execution_count": null,
      "outputs": [
        {
          "output_type": "execute_result",
          "data": {
            "text/html": [
              "<div>\n",
              "<style scoped>\n",
              "    .dataframe tbody tr th:only-of-type {\n",
              "        vertical-align: middle;\n",
              "    }\n",
              "\n",
              "    .dataframe tbody tr th {\n",
              "        vertical-align: top;\n",
              "    }\n",
              "\n",
              "    .dataframe thead th {\n",
              "        text-align: right;\n",
              "    }\n",
              "</style>\n",
              "<table border=\"1\" class=\"dataframe\">\n",
              "  <thead>\n",
              "    <tr style=\"text-align: right;\">\n",
              "      <th></th>\n",
              "      <th>total_vaccinations</th>\n",
              "      <th>people_vaccinated</th>\n",
              "      <th>people_fully_vaccinated</th>\n",
              "      <th>daily_vaccinations_raw</th>\n",
              "      <th>daily_vaccinations</th>\n",
              "      <th>total_vaccinations_per_hundred</th>\n",
              "      <th>people_vaccinated_per_hundred</th>\n",
              "      <th>people_fully_vaccinated_per_hundred</th>\n",
              "      <th>daily_vaccinations_per_million</th>\n",
              "    </tr>\n",
              "  </thead>\n",
              "  <tbody>\n",
              "    <tr>\n",
              "      <th>count</th>\n",
              "      <td>4.059000e+03</td>\n",
              "      <td>3.612000e+03</td>\n",
              "      <td>2.456000e+03</td>\n",
              "      <td>3.427000e+03</td>\n",
              "      <td>6.131000e+03</td>\n",
              "      <td>4059.000000</td>\n",
              "      <td>3612.000000</td>\n",
              "      <td>2456.000000</td>\n",
              "      <td>6131.000000</td>\n",
              "    </tr>\n",
              "    <tr>\n",
              "      <th>mean</th>\n",
              "      <td>2.205825e+06</td>\n",
              "      <td>1.813410e+06</td>\n",
              "      <td>7.163325e+05</td>\n",
              "      <td>8.409281e+04</td>\n",
              "      <td>5.834689e+04</td>\n",
              "      <td>8.851259</td>\n",
              "      <td>6.864009</td>\n",
              "      <td>3.058371</td>\n",
              "      <td>2568.415430</td>\n",
              "    </tr>\n",
              "    <tr>\n",
              "      <th>std</th>\n",
              "      <td>7.720102e+06</td>\n",
              "      <td>5.802202e+06</td>\n",
              "      <td>2.886542e+06</td>\n",
              "      <td>2.535361e+05</td>\n",
              "      <td>1.927478e+05</td>\n",
              "      <td>16.190116</td>\n",
              "      <td>11.141742</td>\n",
              "      <td>6.783997</td>\n",
              "      <td>4286.002346</td>\n",
              "    </tr>\n",
              "    <tr>\n",
              "      <th>min</th>\n",
              "      <td>0.000000e+00</td>\n",
              "      <td>0.000000e+00</td>\n",
              "      <td>1.000000e+00</td>\n",
              "      <td>0.000000e+00</td>\n",
              "      <td>1.000000e+00</td>\n",
              "      <td>0.000000</td>\n",
              "      <td>0.000000</td>\n",
              "      <td>0.000000</td>\n",
              "      <td>0.000000</td>\n",
              "    </tr>\n",
              "    <tr>\n",
              "      <th>25%</th>\n",
              "      <td>3.609250e+04</td>\n",
              "      <td>3.399525e+04</td>\n",
              "      <td>1.664625e+04</td>\n",
              "      <td>2.654000e+03</td>\n",
              "      <td>1.121000e+03</td>\n",
              "      <td>0.690000</td>\n",
              "      <td>0.710000</td>\n",
              "      <td>0.330000</td>\n",
              "      <td>355.000000</td>\n",
              "    </tr>\n",
              "    <tr>\n",
              "      <th>50%</th>\n",
              "      <td>2.451770e+05</td>\n",
              "      <td>2.260720e+05</td>\n",
              "      <td>8.811350e+04</td>\n",
              "      <td>1.349400e+04</td>\n",
              "      <td>6.657000e+03</td>\n",
              "      <td>3.310000</td>\n",
              "      <td>2.930000</td>\n",
              "      <td>1.220000</td>\n",
              "      <td>1219.000000</td>\n",
              "    </tr>\n",
              "    <tr>\n",
              "      <th>75%</th>\n",
              "      <td>1.142525e+06</td>\n",
              "      <td>9.277102e+05</td>\n",
              "      <td>4.412902e+05</td>\n",
              "      <td>5.670650e+04</td>\n",
              "      <td>2.879150e+04</td>\n",
              "      <td>9.035000</td>\n",
              "      <td>7.082500</td>\n",
              "      <td>2.690000</td>\n",
              "      <td>2731.500000</td>\n",
              "    </tr>\n",
              "    <tr>\n",
              "      <th>max</th>\n",
              "      <td>1.070603e+08</td>\n",
              "      <td>6.978421e+07</td>\n",
              "      <td>3.745927e+07</td>\n",
              "      <td>4.575496e+06</td>\n",
              "      <td>2.541597e+06</td>\n",
              "      <td>136.940000</td>\n",
              "      <td>87.890000</td>\n",
              "      <td>49.050000</td>\n",
              "      <td>54264.000000</td>\n",
              "    </tr>\n",
              "  </tbody>\n",
              "</table>\n",
              "</div>"
            ],
            "text/plain": [
              "       total_vaccinations  ...  daily_vaccinations_per_million\n",
              "count        4.059000e+03  ...                     6131.000000\n",
              "mean         2.205825e+06  ...                     2568.415430\n",
              "std          7.720102e+06  ...                     4286.002346\n",
              "min          0.000000e+00  ...                        0.000000\n",
              "25%          3.609250e+04  ...                      355.000000\n",
              "50%          2.451770e+05  ...                     1219.000000\n",
              "75%          1.142525e+06  ...                     2731.500000\n",
              "max          1.070603e+08  ...                    54264.000000\n",
              "\n",
              "[8 rows x 9 columns]"
            ]
          },
          "metadata": {
            "tags": []
          },
          "execution_count": 4
        }
      ]
    },
    {
      "cell_type": "markdown",
      "metadata": {
        "id": "qU8URPNyv31E"
      },
      "source": [
        "EDA steps\n",
        "###Problem definition\n",
        "* Main objective of analysis:\n",
        "* Main deliverables are:\n",
        "* Main roles and responsibilities:\n",
        "* Current status of the data:\n",
        "* Cost benifit analysis:\n",
        "###Data preparation\n",
        "* Transform data into required chunks for analysis\n",
        "###Data analysis\n",
        "* Use descriptive statistics and inferential statistics\n",
        "* Correlation statistics\n",
        "* Searching, grouping and mathematical models\n",
        "###Development and represenation of results\n",
        "* Making graphs, summary tables, maps and diagrams."
      ]
    },
    {
      "cell_type": "code",
      "metadata": {
        "id": "EtY4PxNfMrXo",
        "colab": {
          "base_uri": "https://localhost:8080/"
        },
        "outputId": "c4b67e48-3c78-4e90-ae27-0c443552bd4d"
      },
      "source": [
        "df['country'].nunique()"
      ],
      "execution_count": null,
      "outputs": [
        {
          "output_type": "execute_result",
          "data": {
            "text/plain": [
              "136"
            ]
          },
          "metadata": {
            "tags": []
          },
          "execution_count": 6
        }
      ]
    },
    {
      "cell_type": "code",
      "metadata": {
        "colab": {
          "base_uri": "https://localhost:8080/",
          "height": 313
        },
        "id": "YbcC6IifujfQ",
        "outputId": "14b49f66-cabd-49a5-abb5-8e59e50367d6"
      },
      "source": [
        "#Numeric categorical variable\n",
        "df.hist('total_vaccinations')\n",
        "plt.title('Distribution of total_vaccinations ')\n",
        "plt.xlabel('total_vaccinations')\n",
        "plt.ylabel('Frequency')"
      ],
      "execution_count": null,
      "outputs": [
        {
          "output_type": "execute_result",
          "data": {
            "text/plain": [
              "Text(0, 0.5, 'Frequency')"
            ]
          },
          "metadata": {
            "tags": []
          },
          "execution_count": 8
        },
        {
          "output_type": "display_data",
          "data": {
            "image/png": "[encoded data removed]",
            "text/plain": [
              "<Figure size 432x288 with 1 Axes>"
            ]
          },
          "metadata": {
            "tags": [],
            "needs_background": "light"
          }
        }
      ]
    },
    {
      "cell_type": "code",
      "metadata": {
        "colab": {
          "base_uri": "https://localhost:8080/"
        },
        "id": "Gn60ai-UvKbU",
        "outputId": "f8e1b14e-7263-432c-da59-64171670550d"
      },
      "source": [
        "df['vaccines'].unique()"
      ],
      "execution_count": null,
      "outputs": [
        {
          "output_type": "execute_result",
          "data": {
            "text/plain": [
              "array(['Pfizer/BioNTech', 'Sputnik V', 'Oxford/AstraZeneca',\n",
              "       'Oxford/AstraZeneca, Sinopharm/Beijing, Sputnik V',\n",
              "       'Oxford/AstraZeneca, Pfizer/BioNTech',\n",
              "       'Moderna, Oxford/AstraZeneca, Pfizer/BioNTech', 'Sinovac',\n",
              "       'Oxford/AstraZeneca, Pfizer/BioNTech, Sinopharm/Beijing, Sputnik V',\n",
              "       'Oxford/AstraZeneca, Sinovac', 'Sinopharm/Beijing',\n",
              "       'Moderna, Pfizer/BioNTech', 'Pfizer/BioNTech, Sinovac',\n",
              "       'Sinopharm/Beijing, Sinopharm/Wuhan, Sinovac', 'Moderna',\n",
              "       'Moderna, Oxford/AstraZeneca, Pfizer/BioNTech, Sinopharm/Beijing, Sputnik V',\n",
              "       'Covaxin, Oxford/AstraZeneca',\n",
              "       'Pfizer/BioNTech, Sinopharm/Beijing',\n",
              "       'Pfizer/ BioNTech, Sinopharm/Beijing',\n",
              "       'Oxford/AstraZeneca, Pfizer/BioNTech, Sputnik V',\n",
              "       'Sinopharm/Beijing, Sputnik V',\n",
              "       'Oxford/AstraZeneca, Sinopharm/Beijing', 'EpiVacCorona, Sputnik V',\n",
              "       'Johnson&Johnson',\n",
              "       'Oxford/AstraZeneca, Pfizer/BioNTech, Sinopharm/Beijing, Sinopharm/Wuhan, Sputnik V',\n",
              "       'Johnson&Johnson, Moderna, Pfizer/BioNTech'], dtype=object)"
            ]
          },
          "metadata": {
            "tags": []
          },
          "execution_count": 13
        }
      ]
    },
    {
      "cell_type": "code",
      "metadata": {
        "colab": {
          "base_uri": "https://localhost:8080/",
          "height": 312
        },
        "id": "DZUoX7fauvQj",
        "outputId": "9210b6e1-e4c3-4554-d523-009de2f36ad1"
      },
      "source": [
        "#Categorical Variable\n",
        "sns.countplot(x='vaccines', data = df)\n",
        "plt.title('total vaccines Distribution')"
      ],
      "execution_count": null,
      "outputs": [
        {
          "output_type": "execute_result",
          "data": {
            "text/plain": [
              "Text(0.5, 1.0, 'total vaccines Distribution')"
            ]
          },
          "metadata": {
            "tags": []
          },
          "execution_count": 11
        },
        {
          "output_type": "display_data",
          "data": {
            "image/png": "[encoded data removed]",
            "text/plain": [
              "<Figure size 432x288 with 1 Axes>"
            ]
          },
          "metadata": {
            "tags": [],
            "needs_background": "light"
          }
        }
      ]
    },
    {
      "cell_type": "code",
      "metadata": {
        "colab": {
          "base_uri": "https://localhost:8080/"
        },
        "id": "1C1isIBEzpVw",
        "outputId": "8bd33061-53ea-4489-bdf8-363e445d2cfc"
      },
      "source": [
        "df.value_counts()"
      ],
      "execution_count": null,
      "outputs": [
        {
          "output_type": "execute_result",
          "data": {
            "text/plain": [
              "country        iso_code  date        total_vaccinations  people_vaccinated  people_fully_vaccinated  daily_vaccinations_raw  daily_vaccinations  total_vaccinations_per_hundred  people_vaccinated_per_hundred  people_fully_vaccinated_per_hundred  daily_vaccinations_per_million  vaccines                                        source_name                                 source_website                                                                                                                                                    \n",
              "United States  USA       2021-03-14  107060274.0         69784210.0         37459269.0               1356773.0               2386932.0           32.01                           20.87                          11.20                                7137.0                          Johnson&Johnson, Moderna, Pfizer/BioNTech       Centers for Disease Control and Prevention  https://covid.cdc.gov/covid-data-tracker/#vaccinations                                                                                                                1\n",
              "Germany        DEU       2021-01-20  1503351.0           1392336.0          111015.0                 126229.0                83971.0             1.79                            1.66                           0.13                                 1002.0                          Moderna, Oxford/AstraZeneca, Pfizer/BioNTech    Robert Koch Institut                        https://impfdashboard.de/                                                                                                                                             1\n",
              "                         2021-01-22  1703862.0           1521816.0          182046.0                 99990.0                 88126.0             2.03                            1.82                           0.22                                 1052.0                          Moderna, Oxford/AstraZeneca, Pfizer/BioNTech    Robert Koch Institut                        https://impfdashboard.de/                                                                                                                                             1\n",
              "                         2021-01-23  1788028.0           1561949.0          226079.0                 84166.0                 92043.0             2.13                            1.86                           0.27                                 1099.0                          Moderna, Oxford/AstraZeneca, Pfizer/BioNTech    Robert Koch Institut                        https://impfdashboard.de/                                                                                                                                             1\n",
              "                         2021-01-24  1837371.0           1587556.0          249815.0                 49343.0                 92630.0             2.19                            1.89                           0.30                                 1106.0                          Moderna, Oxford/AstraZeneca, Pfizer/BioNTech    Robert Koch Institut                        https://impfdashboard.de/                                                                                                                                             1\n",
              "                                                                                                                                                                                                                                                                                                                                                                                                                                                                                                                                                      ..\n",
              "Mexico         MEX       2021-02-20  1656304.0           1210886.0          445418.0                 82146.0                 132856.0            1.28                            0.94                           0.35                                 1030.0                          Oxford/AstraZeneca, Pfizer/BioNTech, Sputnik V  Secretary of Health                         https://www.gob.mx/salud/prensa/108-invita-secretaria-de-salud-a-esperar-turno-para-recibir-vacuna-contra-covid-19?idiom=es                                           1\n",
              "                         2021-02-21  1689158.0           1236103.0          453055.0                 32854.0                 135880.0            1.31                            0.96                           0.35                                 1054.0                          Oxford/AstraZeneca, Pfizer/BioNTech, Sputnik V  Secretary of Health                         https://www.gob.mx/salud/prensa/108-invita-secretaria-de-salud-a-esperar-turno-para-recibir-vacuna-contra-covid-19?idiom=es                                           1\n",
              "                         2021-02-22  1733404.0           1277187.0          456217.0                 44246.0                 140532.0            1.34                            0.99                           0.35                                 1090.0                          Oxford/AstraZeneca, Pfizer/BioNTech, Sputnik V  Secretary of Health                         https://www.gob.mx/salud/prensa/108-invita-secretaria-de-salud-a-esperar-turno-para-recibir-vacuna-contra-covid-19?idiom=es                                           1\n",
              "                         2021-02-23  1801156.0           1336854.0          464302.0                 67752.0                 126539.0            1.40                            1.04                           0.36                                 981.0                           Oxford/AstraZeneca, Pfizer/BioNTech, Sputnik V  Secretary of Health                         https://www.gob.mx/salud/prensa/108-invita-secretaria-de-salud-a-esperar-turno-para-recibir-vacuna-contra-covid-19?idiom=es                                           1\n",
              "Albania        ALB       2021-02-18  3049.0              2438.0             611.0                    1348.0                  254.0               0.11                            0.08                           0.02                                 88.0                            Pfizer/BioNTech                                 Ministry of Health                          https://shendetesia.gov.al/covid19-ministria-e-shendetesise-942-te-vaksinuar-3340-testime-872-te-sheruar-681-raste-te-reja-dhe-16-humbje-jete-ne-24-oret-e-fundit/    1\n",
              "Length: 1977, dtype: int64"
            ]
          },
          "metadata": {
            "tags": []
          },
          "execution_count": 15
        }
      ]
    },
    {
      "cell_type": "code",
      "metadata": {
        "id": "81GC8Z79zg1e"
      },
      "source": [
        ""
      ],
      "execution_count": null,
      "outputs": []
    }
  ]
}